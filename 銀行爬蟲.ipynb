{
  "nbformat": 4,
  "nbformat_minor": 0,
  "metadata": {
    "colab": {
      "provenance": []
    },
    "kernelspec": {
      "name": "python3",
      "display_name": "Python 3"
    },
    "language_info": {
      "name": "python"
    }
  },
  "cells": [
    {
      "cell_type": "code",
      "execution_count": null,
      "metadata": {
        "id": "maRq8tNzUChe"
      },
      "outputs": [],
      "source": [
        "#請各位使用前每個程式都記得跑一次喔!"
      ]
    },
    {
      "cell_type": "code",
      "source": [
        "pip install gradio"
      ],
      "metadata": {
        "id": "rcu1LRIbUGFW"
      },
      "execution_count": null,
      "outputs": []
    },
    {
      "cell_type": "code",
      "source": [
        "pip install requests"
      ],
      "metadata": {
        "colab": {
          "base_uri": "https://localhost:8080/"
        },
        "id": "Gd1468rVUVJq",
        "outputId": "a88daaac-0eab-416d-b1d5-f0758103d751"
      },
      "execution_count": null,
      "outputs": [
        {
          "output_type": "stream",
          "name": "stdout",
          "text": [
            "Requirement already satisfied: requests in /usr/local/lib/python3.10/dist-packages (2.32.3)\n",
            "Requirement already satisfied: charset-normalizer<4,>=2 in /usr/local/lib/python3.10/dist-packages (from requests) (3.3.2)\n",
            "Requirement already satisfied: idna<4,>=2.5 in /usr/local/lib/python3.10/dist-packages (from requests) (3.7)\n",
            "Requirement already satisfied: urllib3<3,>=1.21.1 in /usr/local/lib/python3.10/dist-packages (from requests) (2.0.7)\n",
            "Requirement already satisfied: certifi>=2017.4.17 in /usr/local/lib/python3.10/dist-packages (from requests) (2024.7.4)\n"
          ]
        }
      ]
    },
    {
      "cell_type": "code",
      "source": [
        "import requests\n",
        "import gradio as gr\n",
        "def do(text):\n",
        "    s=0\n",
        "    if text=='銀行買入':\n",
        "        s=2\n",
        "    elif text=='銀行賣出':\n",
        "        s=3\n",
        "    else:\n",
        "        return '請正確輸入喔!'\n",
        "        exit()\n",
        "    ans=[]\n",
        "    url='https://rate.bot.com.tw/xrt/flcsv/0/day'\n",
        "    thing=requests.get(url)\n",
        "    thing.encoding='utf-8'\n",
        "    txt=thing.text\n",
        "    time=txt.split('\\n')\n",
        "    for i in time:\n",
        "        try:\n",
        "            k=i.split(',')\n",
        "            ans.append(k[0]+':'+k[s])\n",
        "            #return k[0]+':'+k[s]\n",
        "        except:\n",
        "            return ans\n",
        "            break\n",
        "iface=gr.Interface(fn=do,\n",
        "                title='台灣銀行爬蟲',\n",
        "                description='請輸入您要提取的東西(銀行買入或銀行賣出)(兩者都是現今匯率)(資料來源:台灣銀行)',\n",
        "                inputs='text',\n",
        "                outputs='text'\n",
        "                   )\n",
        "iface.launch(share=True)\n"
      ],
      "metadata": {
        "id": "6N7AyNZaUQYM"
      },
      "execution_count": null,
      "outputs": []
    }
  ]
}